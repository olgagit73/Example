{
  "nbformat": 4,
  "nbformat_minor": 0,
  "metadata": {
    "colab": {
      "name": "Первый.ipynb",
      "provenance": [],
      "authorship_tag": "ABX9TyNPMPXEc0GaC1/nI66vrLQE",
      "include_colab_link": true
    },
    "kernelspec": {
      "name": "python3",
      "display_name": "Python 3"
    },
    "language_info": {
      "name": "python"
    }
  },
  "cells": [
    {
      "cell_type": "markdown",
      "metadata": {
        "id": "view-in-github",
        "colab_type": "text"
      },
      "source": [
        "<a href=\"https://colab.research.google.com/github/olgagit73/Example/blob/master/%D0%9F%D0%B5%D1%80%D0%B2%D1%8B%D0%B9.ipynb\" target=\"_parent\"><img src=\"https://colab.research.google.com/assets/colab-badge.svg\" alt=\"Open In Colab\"/></a>"
      ]
    },
    {
      "cell_type": "markdown",
      "metadata": {
        "id": "1eYod4HXRIS5"
      },
      "source": [
        "# Переменные"
      ]
    },
    {
      "cell_type": "code",
      "metadata": {
        "colab": {
          "base_uri": "https://localhost:8080/"
        },
        "id": "SjsO_-nPpPfy",
        "outputId": "b77512ea-9822-4244-c4c4-a741b429b081"
      },
      "source": [
        "a = 11\n",
        "b = 11\n",
        "print ('Условие1 {}'.format(a is b-1))\n",
        "b=b-1\n",
        "b\n",
        "a is b"
      ],
      "execution_count": 1,
      "outputs": [
        {
          "output_type": "stream",
          "name": "stdout",
          "text": [
            "Условие1 False\n"
          ]
        },
        {
          "output_type": "execute_result",
          "data": {
            "text/plain": [
              "False"
            ]
          },
          "metadata": {},
          "execution_count": 1
        }
      ]
    },
    {
      "cell_type": "markdown",
      "metadata": {
        "id": "h5Pj8p9URsZJ"
      },
      "source": [
        "# Модули\n"
      ]
    },
    {
      "cell_type": "code",
      "metadata": {
        "id": "tHi6jJHlR6qZ"
      },
      "source": [
        "import math"
      ],
      "execution_count": null,
      "outputs": []
    },
    {
      "cell_type": "code",
      "metadata": {
        "colab": {
          "base_uri": "https://localhost:8080/"
        },
        "id": "JDeRFdFTSCzP",
        "outputId": "dddad319-e20e-4acf-a7ab-0ac17e4eb356"
      },
      "source": [
        "math.pi"
      ],
      "execution_count": null,
      "outputs": [
        {
          "output_type": "execute_result",
          "data": {
            "text/plain": [
              "3.141592653589793"
            ]
          },
          "metadata": {},
          "execution_count": 3
        }
      ]
    },
    {
      "cell_type": "markdown",
      "metadata": {
        "id": "YF2pR1eASLMf"
      },
      "source": [
        "# Модуль random"
      ]
    },
    {
      "cell_type": "code",
      "metadata": {
        "id": "lFGgcrivSRuP"
      },
      "source": [
        "import random"
      ],
      "execution_count": null,
      "outputs": []
    },
    {
      "cell_type": "code",
      "metadata": {
        "colab": {
          "base_uri": "https://localhost:8080/"
        },
        "id": "3jlHwavuSaYf",
        "outputId": "3b6fe2b3-1fc0-4413-d281-d0c4c60b1b11"
      },
      "source": [
        "r = random.random()\n",
        "print (r)\n",
        "type(r)"
      ],
      "execution_count": null,
      "outputs": [
        {
          "output_type": "stream",
          "name": "stdout",
          "text": [
            "0.65360645581402\n"
          ]
        },
        {
          "output_type": "execute_result",
          "data": {
            "text/plain": [
              "float"
            ]
          },
          "metadata": {},
          "execution_count": 13
        }
      ]
    },
    {
      "cell_type": "markdown",
      "metadata": {
        "id": "YdA41StGSoHX"
      },
      "source": [
        "# If"
      ]
    },
    {
      "cell_type": "code",
      "metadata": {
        "colab": {
          "base_uri": "https://localhost:8080/"
        },
        "id": "egE86KVvStIn",
        "outputId": "fecce9bf-6069-4a3b-fc05-2aa70ced358a"
      },
      "source": [
        "if r > 0.5 :\n",
        "  print ('орел' )\n",
        "else :\n",
        "  print ('решка' )"
      ],
      "execution_count": null,
      "outputs": [
        {
          "output_type": "stream",
          "name": "stdout",
          "text": [
            "решка\n"
          ]
        }
      ]
    },
    {
      "cell_type": "code",
      "metadata": {
        "colab": {
          "base_uri": "https://localhost:8080/"
        },
        "id": "D-UrGboDDTwZ",
        "outputId": "0eca957c-f585-4478-b6e8-b8f6405d4667"
      },
      "source": [
        "old = int(input('Ваш возраст: '))\n",
        "print('Рекомендовано:', end=' ')\n",
        "if 3 <= old < 6:\n",
        "  print(\"Заяц в лабиринте\")\n",
        "elif 6 <= old < 12:\n",
        "  print('\"Марсианин\"')\n",
        "elif 12 <= old < 16:\n",
        "  print('\"Загадочный остров\"')\n",
        "elif 16 <= old:\n",
        "  print('\"Поток сознания\"')\n"
      ],
      "execution_count": null,
      "outputs": [
        {
          "output_type": "stream",
          "name": "stdout",
          "text": [
            "Ваш возраст: 15\n",
            "Рекомендовано: \"Загадочный остров\"\n"
          ]
        }
      ]
    },
    {
      "cell_type": "code",
      "metadata": {
        "colab": {
          "base_uri": "https://localhost:8080/"
        },
        "id": "hlZYfnPRP-ok",
        "outputId": "945b5c4a-e695-4d11-a9de-7ef329950685"
      },
      "source": [
        "\n",
        "x = int(input('Введи х '))\n",
        "if x >0:\n",
        "  f = pow(x,2)\n",
        "else :\n",
        "  f = pow(x,3)\n",
        "print(f)"
      ],
      "execution_count": null,
      "outputs": [
        {
          "output_type": "stream",
          "name": "stdout",
          "text": [
            "Введи х 3\n",
            "9\n"
          ]
        }
      ]
    },
    {
      "cell_type": "markdown",
      "metadata": {
        "id": "4GHGatnn7Ael"
      },
      "source": [
        "# print()"
      ]
    },
    {
      "cell_type": "code",
      "metadata": {
        "colab": {
          "base_uri": "https://localhost:8080/"
        },
        "id": "vmp6q46_7Iuu",
        "outputId": "55b50f05-7e2b-4c0b-cfc2-caf956ce3e7a"
      },
      "source": [
        "print(\"Тебя зовут {0}. Твоя фамилия {1}. Ты студент!\". format(input(),input()))\n"
      ],
      "execution_count": 2,
      "outputs": [
        {
          "output_type": "stream",
          "name": "stdout",
          "text": [
            "vfvf\n",
            "мама\n",
            "Тебя зовут vfvf. Твоя фамилия мама. Ты студент!\n"
          ]
        }
      ]
    },
    {
      "cell_type": "code",
      "metadata": {
        "colab": {
          "base_uri": "https://localhost:8080/"
        },
        "id": "oushy_pINK9u",
        "outputId": "9b343b17-ce1f-4a9e-91b3-cd12b89a0e3e"
      },
      "source": [
        "print(f\"Тебя зовут {input()}. Твоя фамилия {input()}. Ты студент!\")"
      ],
      "execution_count": 3,
      "outputs": [
        {
          "output_type": "stream",
          "name": "stdout",
          "text": [
            "Иван\n",
            "Петров\n",
            "Тебя зовут Иван. Твоя фамилия Петров. Ты студент!\n"
          ]
        }
      ]
    },
    {
      "cell_type": "code",
      "metadata": {
        "id": "Z8H9AqTaNbUt"
      },
      "source": [
        "print(\"Тебя зовут {:.2f}. Твоя фамилия {:.2f}. Ты студент!\". format(8.8776865,7.5443212234456))"
      ],
      "execution_count": null,
      "outputs": []
    },
    {
      "cell_type": "markdown",
      "metadata": {
        "id": "Tg5_zyP6V4yC"
      },
      "source": [
        "Исключения\n"
      ]
    },
    {
      "cell_type": "code",
      "metadata": {
        "id": "DuJTEE2MV9q9"
      },
      "source": [
        "try:\n",
        "    n = int(input(\"Введите целое число: \"))\n",
        "    print(\"Удачно\")\n",
        "except:\n",
        "    print(\"Что-то пошло не так\")"
      ],
      "execution_count": null,
      "outputs": []
    },
    {
      "cell_type": "markdown",
      "metadata": {
        "id": "Kpz8sdtFsEzd"
      },
      "source": [
        "Исключения и While\n"
      ]
    },
    {
      "cell_type": "code",
      "metadata": {
        "id": "doFv5Ya0sJfa"
      },
      "source": [
        "n = input(\"Введите целое число: \")\n",
        "while type(n) != int:\n",
        "    try:\n",
        "        n = int(n)\n",
        "    except ValueError:\n",
        "      print(\"Неправильно ввели!\")\n",
        "      n = input(\"Введите целое число: \")\n",
        "\n",
        "if  not(math.fmod(n, 2)) :\n",
        "        print(\"Четное\")\n",
        "else:\n",
        "        print(\"Нечетное\")"
      ],
      "execution_count": null,
      "outputs": []
    },
    {
      "cell_type": "code",
      "metadata": {
        "id": "kYvhMdL7r-N1"
      },
      "source": [
        ""
      ],
      "execution_count": null,
      "outputs": []
    },
    {
      "cell_type": "markdown",
      "metadata": {
        "id": "s4bqgi5VMfEx"
      },
      "source": [
        "Списки - List\n"
      ]
    },
    {
      "cell_type": "code",
      "metadata": {
        "id": "Xn-JXVWZMh8-"
      },
      "source": [
        "a = [20, 3.69, 'word', 100, 85]\n"
      ],
      "execution_count": null,
      "outputs": []
    },
    {
      "cell_type": "code",
      "metadata": {
        "id": "Voef_WSlNMxN"
      },
      "source": [
        "a.append(33)"
      ],
      "execution_count": null,
      "outputs": []
    },
    {
      "cell_type": "code",
      "metadata": {
        "id": "V2SgJlkuNVH7"
      },
      "source": [
        "a.insert(4, 101)"
      ],
      "execution_count": null,
      "outputs": []
    },
    {
      "cell_type": "code",
      "metadata": {
        "id": "QT_64YP8N2RT"
      },
      "source": [
        "a.remove(33)"
      ],
      "execution_count": null,
      "outputs": []
    },
    {
      "cell_type": "code",
      "metadata": {
        "id": "Vz2YcqfxPGqU"
      },
      "source": [
        "a.pop()"
      ],
      "execution_count": null,
      "outputs": []
    },
    {
      "cell_type": "code",
      "metadata": {
        "id": "nAIJTLRUPLww"
      },
      "source": [
        "a.pop(1)"
      ],
      "execution_count": null,
      "outputs": []
    },
    {
      "cell_type": "code",
      "metadata": {
        "id": "CfO5nWPQPX3y"
      },
      "source": [
        "a.pop(-2)"
      ],
      "execution_count": null,
      "outputs": []
    },
    {
      "cell_type": "code",
      "metadata": {
        "id": "2PLwi-hhR7B_"
      },
      "source": [
        "d = 0\n",
        "while d != 4 :\n",
        "  a.append(random.random())\n",
        "  d +=1"
      ],
      "execution_count": null,
      "outputs": []
    },
    {
      "cell_type": "code",
      "metadata": {
        "id": "A-q4GCy-S1lo"
      },
      "source": [
        "del a[3:6]"
      ],
      "execution_count": null,
      "outputs": []
    },
    {
      "cell_type": "code",
      "metadata": {
        "id": "7UGHpx9zJTi5"
      },
      "source": [
        "a"
      ],
      "execution_count": null,
      "outputs": []
    },
    {
      "cell_type": "code",
      "metadata": {
        "id": "Fx3lRP63TpUv"
      },
      "source": [
        "del a[-2]"
      ],
      "execution_count": null,
      "outputs": []
    },
    {
      "cell_type": "code",
      "metadata": {
        "id": "b_HgkimeIGqC"
      },
      "source": [
        "a\n"
      ],
      "execution_count": null,
      "outputs": []
    },
    {
      "cell_type": "code",
      "metadata": {
        "id": "8iUmbISMUXKI"
      },
      "source": [
        "dir(a)"
      ],
      "execution_count": null,
      "outputs": []
    },
    {
      "cell_type": "code",
      "metadata": {
        "id": "5Kkf4Wwl7OWh"
      },
      "source": [
        "a.pop(1)"
      ],
      "execution_count": null,
      "outputs": []
    },
    {
      "cell_type": "code",
      "metadata": {
        "id": "xbKIAUBrVa3e"
      },
      "source": [
        "a.sort(reverse=True)\n"
      ],
      "execution_count": null,
      "outputs": []
    },
    {
      "cell_type": "code",
      "metadata": {
        "id": "RO8DKr3L7Vnv"
      },
      "source": [
        "a\n"
      ],
      "execution_count": null,
      "outputs": []
    },
    {
      "cell_type": "markdown",
      "metadata": {
        "id": "qgY8hbd-7kbR"
      },
      "source": [
        "Цикл For"
      ]
    },
    {
      "cell_type": "code",
      "metadata": {
        "id": "PbtIbOd87nh4"
      },
      "source": [
        "for element in a:\n",
        "  print(element + 2)"
      ],
      "execution_count": null,
      "outputs": []
    },
    {
      "cell_type": "code",
      "metadata": {
        "id": "1etl4fDmKedC"
      },
      "source": [
        "a"
      ],
      "execution_count": null,
      "outputs": []
    },
    {
      "cell_type": "code",
      "metadata": {
        "id": "jzYMauLB8JEH"
      },
      "source": [
        "i = 0\n",
        "for element in a:\n",
        "  a[i] = element + 2\n",
        "  i += 1"
      ],
      "execution_count": null,
      "outputs": []
    },
    {
      "cell_type": "markdown",
      "source": [
        ""
      ],
      "metadata": {
        "id": "catqW1sdwfu0"
      }
    }
  ]
}